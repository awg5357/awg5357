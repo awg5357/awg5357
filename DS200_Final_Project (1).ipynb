{
  "nbformat": 4,
  "nbformat_minor": 0,
  "metadata": {
    "colab": {
      "name": "DS200 Final Project",
      "provenance": [],
      "collapsed_sections": []
    },
    "kernelspec": {
      "name": "python3",
      "display_name": "Python 3"
    },
    "language_info": {
      "name": "python"
    }
  },
  "cells": [
    {
      "cell_type": "markdown",
      "metadata": {
        "id": "as750Yt-9Mgy"
      },
      "source": [
        "#ANIME DATASET FINAL PROJECT"
      ]
    },
    {
      "cell_type": "markdown",
      "metadata": {
        "id": "dTNASMvZ7p2N"
      },
      "source": [
        "##Data Description Prior Questions\n",
        "\n",
        "This dataset contains and lists thousands of animes throughout the years. It also describes it's ratings, ranking, and popularity, as well as it's more descriptive qualities such as its studio and genre. Some questions I have about anime relating to this dataset is \"Which studios had the highest average ratings?\", \"Is there a correlation to an anime's rating and the number of episodes it has?\", \"Which genres were the least rated?\", and \"Can we estimate the number of episodes based on an anime's rating?\"."
      ]
    },
    {
      "cell_type": "markdown",
      "metadata": {
        "id": "aWGnT7Yl9Wst"
      },
      "source": [
        "##Importing Data and Functions for Regression/Prediction"
      ]
    },
    {
      "cell_type": "code",
      "metadata": {
        "id": "QqR4pJWrysOr",
        "colab": {
          "base_uri": "https://localhost:8080/"
        },
        "outputId": "9c99d8fb-f1f8-4903-e7d5-69f81e1f2e9e"
      },
      "source": [
        "import csv\n",
        "import matplotlib\n",
        "from datascience import *\n",
        "%matplotlib inline\n",
        "import matplotlib.pyplot as plots\n",
        "from mpl_toolkits.mplot3d import Axes3D\n",
        "import numpy as np\n",
        "import pandas as pd\n",
        "import math\n",
        "import scipy.stats as stats\n",
        "plots.style.use('fivethirtyeight')"
      ],
      "execution_count": null,
      "outputs": [
        {
          "output_type": "stream",
          "text": [
            "/usr/local/lib/python3.7/dist-packages/datascience/tables.py:17: MatplotlibDeprecationWarning: The 'warn' parameter of use() is deprecated since Matplotlib 3.1 and will be removed in 3.3.  If any parameter follows 'warn', they should be pass as keyword, not positionally.\n",
            "  matplotlib.use('agg', warn=False)\n",
            "/usr/local/lib/python3.7/dist-packages/datascience/util.py:10: MatplotlibDeprecationWarning: The 'warn' parameter of use() is deprecated since Matplotlib 3.1 and will be removed in 3.3.  If any parameter follows 'warn', they should be pass as keyword, not positionally.\n",
            "  matplotlib.use('agg', warn=False)\n"
          ],
          "name": "stderr"
        }
      ]
    },
    {
      "cell_type": "code",
      "metadata": {
        "id": "-8PNSDBKb2Ro"
      },
      "source": [
        "def standard_units(any_numbers):\n",
        "    \"Convert any array of numbers to standard units.\"\n",
        "    return (any_numbers - np.mean(any_numbers))/np.std(any_numbers)  \n",
        "\n",
        "def correlation(t, x, y):\n",
        "    return np.mean(standard_units(t.column(x))*standard_units(t.column(y)))\n",
        "\n",
        "def slope(table, x, y):\n",
        "    r = correlation(table, x, y)\n",
        "    return r * np.std(table.column(y))/np.std(table.column(x))\n",
        "\n",
        "def intercept(table, x, y):\n",
        "    a = slope(table, x, y)\n",
        "    return np.mean(table.column(y)) - a * np.mean(table.column(x))\n",
        "\n",
        "def fit(table, x, y):\n",
        "    \"\"\"Return the height of the regression line at each x value.\"\"\"\n",
        "    a = slope(table, x, y)\n",
        "    b = intercept(table, x, y)\n",
        "    return a * table.column(x) + b\n",
        "\n",
        "def residual(table, x, y):\n",
        "    return table.column(y) - fit(table, x, y)\n",
        "\n",
        "def scatter_fit(table, x, y):\n",
        "    table.scatter(x, y, s=15)\n",
        "    plots.plot(table.column(x), fit(table, x, y), lw=4, color='gold')\n",
        "    plots.xlabel(x)\n",
        "    plots.ylabel(y)\n",
        "\n",
        "def residual_plot(table, x, y):\n",
        "    x_array = table.column(x)\n",
        "    t = Table().with_columns(\n",
        "            x, x_array,\n",
        "            'residuals', residual(table, x, y)\n",
        "        )\n",
        "    t.scatter(x, 'residuals', color='r')\n",
        "    xlims = make_array(min(x_array), max(x_array))\n",
        "    plots.plot(xlims, make_array(0, 0), color='darkblue', lw=4)\n",
        "    plots.title('Residual Plot')"
      ],
      "execution_count": null,
      "outputs": []
    },
    {
      "cell_type": "markdown",
      "metadata": {
        "id": "roE5jx6hQEkE"
      },
      "source": [
        "##Getting rid of 'Unknowns' and Dataset Simplification"
      ]
    },
    {
      "cell_type": "code",
      "metadata": {
        "id": "c6LZ3Sxpz4uT",
        "colab": {
          "base_uri": "https://localhost:8080/",
          "height": 463
        },
        "outputId": "f40cb0ef-3b52-4ffc-c4d5-12bbd78bf36f"
      },
      "source": [
        "full_anime_dataset = Table.read_table('/content/anime.csv')\n",
        "#full_anime_dataset.where('Score', 'Unknown')\n",
        "\n",
        "#Getting rid of 'Unknown' values in 'Score' column\n",
        "new_anime_dataset = full_anime_dataset.where('Name',are.not_equal_to('Unkown')).where('Score', are.not_equal_to('Unknown')).where('Episodes', are.not_equal_to('Unknown')).where('Genders',are.not_equal_to('Unknown')).where('Ranked', are.not_equal_to('Unknown')).where('Popularity', are.not_equal_to('Unknown')).where('Type', are.not_equal_to('Unknown'))\n",
        "new_anime_dataset.show(3)"
      ],
      "execution_count": null,
      "outputs": [
        {
          "output_type": "display_data",
          "data": {
            "text/html": [
              "<table border=\"1\" class=\"dataframe\">\n",
              "    <thead>\n",
              "        <tr>\n",
              "            <th>MAL_ID</th> <th>Name</th> <th>Score</th> <th>Genders</th> <th>English name</th> <th>Japanese name</th> <th>Type</th> <th>Episodes</th> <th>Aired</th> <th>Premiered</th> <th>Producers</th> <th>Licensors</th> <th>Studios</th> <th>Source</th> <th>Duration</th> <th>Rating</th> <th>Ranked</th> <th>Popularity</th> <th>Members</th> <th>Favorites</th> <th>Watching</th> <th>Completed</th> <th>On-Hold</th> <th>Dropped</th> <th>Plan to Watch</th> <th>Score-10</th> <th>Score-9</th> <th>Score-8</th> <th>Score-7</th> <th>Score-6</th> <th>Score-5</th> <th>Score-4</th> <th>Score-3</th> <th>Score-2</th> <th>Score-1</th>\n",
              "        </tr>\n",
              "    </thead>\n",
              "    <tbody>\n",
              "        <tr>\n",
              "            <td>1     </td> <td>Cowboy Bebop                   </td> <td>8.78 </td> <td>Action, Adventure, Comedy, Drama, Sci-Fi, Space  </td> <td>Cowboy Bebop          </td> <td>カウボーイビバップ     </td> <td>TV   </td> <td>26      </td> <td>Apr 3, 1998 to Apr 24, 1999</td> <td>Spring 1998</td> <td>Bandai Visual         </td> <td>Funimation, Bandai Entertainment    </td> <td>Sunrise </td> <td>Original</td> <td>24 min. per ep.</td> <td>R - 17+ (violence & profanity)</td> <td>28.0  </td> <td>39        </td> <td>1251960</td> <td>61971    </td> <td>105808  </td> <td>718161   </td> <td>71513  </td> <td>26678  </td> <td>329800       </td> <td>229170.0</td> <td>182126.0</td> <td>131625.0</td> <td>62330.0</td> <td>20688.0</td> <td>8904.0 </td> <td>3184.0 </td> <td>1357.0 </td> <td>741.0  </td> <td>1580.0 </td>\n",
              "        </tr>\n",
              "        <tr>\n",
              "            <td>5     </td> <td>Cowboy Bebop: Tengoku no Tobira</td> <td>8.39 </td> <td>Action, Drama, Mystery, Sci-Fi, Space            </td> <td>Cowboy Bebop:The Movie</td> <td>カウボーイビバップ 天国の扉</td> <td>Movie</td> <td>1       </td> <td>Sep 1, 2001                </td> <td>Unknown    </td> <td>Sunrise, Bandai Visual</td> <td>Sony Pictures Entertainment         </td> <td>Bones   </td> <td>Original</td> <td>1 hr. 55 min.  </td> <td>R - 17+ (violence & profanity)</td> <td>159.0 </td> <td>518       </td> <td>273145 </td> <td>1174     </td> <td>4143    </td> <td>208333   </td> <td>1935   </td> <td>770    </td> <td>57964        </td> <td>30043.0 </td> <td>49201.0 </td> <td>49505.0 </td> <td>22632.0</td> <td>5805.0 </td> <td>1877.0 </td> <td>577.0  </td> <td>221.0  </td> <td>109.0  </td> <td>379.0  </td>\n",
              "        </tr>\n",
              "        <tr>\n",
              "            <td>6     </td> <td>Trigun                         </td> <td>8.24 </td> <td>Action, Sci-Fi, Adventure, Comedy, Drama, Shounen</td> <td>Trigun                </td> <td>トライガン         </td> <td>TV   </td> <td>26      </td> <td>Apr 1, 1998 to Sep 30, 1998</td> <td>Spring 1998</td> <td>Victor Entertainment  </td> <td>Funimation, Geneon Entertainment USA</td> <td>Madhouse</td> <td>Manga   </td> <td>24 min. per ep.</td> <td>PG-13 - Teens 13 or older     </td> <td>266.0 </td> <td>201       </td> <td>558913 </td> <td>12944    </td> <td>29113   </td> <td>343492   </td> <td>25465  </td> <td>13925  </td> <td>146918       </td> <td>50229.0 </td> <td>75651.0 </td> <td>86142.0 </td> <td>49432.0</td> <td>15376.0</td> <td>5838.0 </td> <td>1965.0 </td> <td>664.0  </td> <td>316.0  </td> <td>533.0  </td>\n",
              "        </tr>\n",
              "    </tbody>\n",
              "</table>\n",
              "<p>... (10977 rows omitted)</p>"
            ],
            "text/plain": [
              "<IPython.core.display.HTML object>"
            ]
          },
          "metadata": {
            "tags": []
          }
        }
      ]
    },
    {
      "cell_type": "code",
      "metadata": {
        "colab": {
          "base_uri": "https://localhost:8080/",
          "height": 307
        },
        "id": "9JLwQvipZMDz",
        "outputId": "fd957388-26c3-4b76-cace-27b12ff84e71"
      },
      "source": [
        "min_anime = new_anime_dataset.select('Name','Score','Genders','Type','Episodes','Source','Ranked','Members','Dropped')\n",
        "anime = min_anime.relabeled(['Score','Genders','Ranked','Dropped'],['Rating','Genre','Rank','Stopped Watching'])\n",
        "anime = anime.sample(k = 3000, with_replacement = False)\n",
        "anime.show(3)"
      ],
      "execution_count": null,
      "outputs": [
        {
          "output_type": "display_data",
          "data": {
            "text/html": [
              "<table border=\"1\" class=\"dataframe\">\n",
              "    <thead>\n",
              "        <tr>\n",
              "            <th>Name</th> <th>Rating</th> <th>Genre</th> <th>Type</th> <th>Episodes</th> <th>Source</th> <th>Rank</th> <th>Members</th> <th>Stopped Watching</th>\n",
              "        </tr>\n",
              "    </thead>\n",
              "    <tbody>\n",
              "        <tr>\n",
              "            <td>YAT Anshin! Uchuu Ryokou</td> <td>6.98  </td> <td>Adventure, Comedy, Sci-Fi, Shounen</td> <td>TV   </td> <td>50      </td> <td>Original</td> <td>3725.0</td> <td>1611   </td> <td>119             </td>\n",
              "        </tr>\n",
              "        <tr>\n",
              "            <td>Flanders no Inu (Movie) </td> <td>7.86  </td> <td>Drama, Historical                 </td> <td>Movie</td> <td>1       </td> <td>Novel   </td> <td>720.0 </td> <td>17195  </td> <td>168             </td>\n",
              "        </tr>\n",
              "        <tr>\n",
              "            <td>Iro wo Kuu Akuma        </td> <td>5.49  </td> <td>Dementia, Music                   </td> <td>ONA  </td> <td>1       </td> <td>Original</td> <td>9710.0</td> <td>476    </td> <td>6               </td>\n",
              "        </tr>\n",
              "    </tbody>\n",
              "</table>\n",
              "<p>... (2997 rows omitted)</p>"
            ],
            "text/plain": [
              "<IPython.core.display.HTML object>"
            ]
          },
          "metadata": {
            "tags": []
          }
        }
      ]
    },
    {
      "cell_type": "code",
      "metadata": {
        "colab": {
          "base_uri": "https://localhost:8080/"
        },
        "id": "QlanIK7jPWHi",
        "outputId": "9df90cd3-922d-48b3-9d34-eb86d703d43a"
      },
      "source": [
        "#turning 'episodes' into num array\n",
        "episodes = anime.column('Episodes').astype(np.float)\n",
        "np.mean(episodes)"
      ],
      "execution_count": null,
      "outputs": [
        {
          "output_type": "execute_result",
          "data": {
            "text/plain": [
              "11.664"
            ]
          },
          "metadata": {
            "tags": []
          },
          "execution_count": 5
        }
      ]
    },
    {
      "cell_type": "markdown",
      "metadata": {
        "id": "mprgTiMbSu6W"
      },
      "source": [
        "###Percentage Stopped Watching Column"
      ]
    },
    {
      "cell_type": "markdown",
      "metadata": {
        "id": "nHNCXfQeQ-aD"
      },
      "source": [
        "Now let's add a new column in which we determine the percentage of people who stopped watching an anime by dividing the \"Stopped Watching\" column with the \"Members\" column and multiplying by 100."
      ]
    },
    {
      "cell_type": "code",
      "metadata": {
        "colab": {
          "base_uri": "https://localhost:8080/",
          "height": 542
        },
        "id": "vFZqWotigpol",
        "outputId": "431ff2dd-08c8-46ee-a984-fb8b648068d6"
      },
      "source": [
        "percentage_dropped = anime.column('Stopped Watching')/anime.column('Members')*100\n",
        "anime2 = anime.with_column('Percentage Stopped Watching', percentage_dropped)\n",
        "anime2.show(5)"
      ],
      "execution_count": null,
      "outputs": [
        {
          "output_type": "display_data",
          "data": {
            "text/html": [
              "<table border=\"1\" class=\"dataframe\">\n",
              "    <thead>\n",
              "        <tr>\n",
              "            <th>Name</th> <th>Rating</th> <th>Genre</th> <th>Type</th> <th>Episodes</th> <th>Source</th> <th>Rank</th> <th>Members</th> <th>Stopped Watching</th> <th>Percentage Stopped Watching</th>\n",
              "        </tr>\n",
              "    </thead>\n",
              "    <tbody>\n",
              "        <tr>\n",
              "            <td>YAT Anshin! Uchuu Ryokou   </td> <td>6.98  </td> <td>Adventure, Comedy, Sci-Fi, Shounen                          </td> <td>TV   </td> <td>50      </td> <td>Original</td> <td>3725.0</td> <td>1611   </td> <td>119             </td> <td>7.38672                    </td>\n",
              "        </tr>\n",
              "        <tr>\n",
              "            <td>Flanders no Inu (Movie)    </td> <td>7.86  </td> <td>Drama, Historical                                           </td> <td>Movie</td> <td>1       </td> <td>Novel   </td> <td>720.0 </td> <td>17195  </td> <td>168             </td> <td>0.977028                   </td>\n",
              "        </tr>\n",
              "        <tr>\n",
              "            <td>Iro wo Kuu Akuma           </td> <td>5.49  </td> <td>Dementia, Music                                             </td> <td>ONA  </td> <td>1       </td> <td>Original</td> <td>9710.0</td> <td>476    </td> <td>6               </td> <td>1.2605                     </td>\n",
              "        </tr>\n",
              "        <tr>\n",
              "            <td>Senki Zesshou Symphogear XV</td> <td>8.21  </td> <td>Action, Music, Sci-Fi                                       </td> <td>TV   </td> <td>13      </td> <td>Original</td> <td>302.0 </td> <td>28318  </td> <td>627             </td> <td>2.21414                    </td>\n",
              "        </tr>\n",
              "        <tr>\n",
              "            <td>Saiyuuki Reload Gunlock    </td> <td>7.42  </td> <td>Action, Adventure, Comedy, Demons, Drama, Josei, Superna ...</td> <td>TV   </td> <td>26      </td> <td>Manga   </td> <td>1840.0</td> <td>19393  </td> <td>519             </td> <td>2.67622                    </td>\n",
              "        </tr>\n",
              "    </tbody>\n",
              "</table>\n",
              "<p>... (2995 rows omitted)</p>"
            ],
            "text/plain": [
              "<IPython.core.display.HTML object>"
            ]
          },
          "metadata": {
            "tags": []
          }
        }
      ]
    },
    {
      "cell_type": "code",
      "metadata": {
        "colab": {
          "base_uri": "https://localhost:8080/"
        },
        "id": "KpvLMLOkcLfA",
        "outputId": "5776fa6c-1a87-416a-a902-2940ac9555cc"
      },
      "source": [
        "anime2.labels"
      ],
      "execution_count": null,
      "outputs": [
        {
          "output_type": "execute_result",
          "data": {
            "text/plain": [
              "('Name',\n",
              " 'Rating',\n",
              " 'Genre',\n",
              " 'Type',\n",
              " 'Episodes',\n",
              " 'Source',\n",
              " 'Rank',\n",
              " 'Members',\n",
              " 'Stopped Watching',\n",
              " 'Percentage Stopped Watching')"
            ]
          },
          "metadata": {
            "tags": []
          },
          "execution_count": 7
        }
      ]
    },
    {
      "cell_type": "markdown",
      "metadata": {
        "id": "IanlkQ0pTNsW"
      },
      "source": [
        "###Column Conversion to 'np.float' for Easier Computation"
      ]
    },
    {
      "cell_type": "code",
      "metadata": {
        "colab": {
          "base_uri": "https://localhost:8080/",
          "height": 369
        },
        "id": "huMDZ3ytwvZa",
        "outputId": "520ed9e6-df0d-4405-c4ea-e4a2ea80e3e5"
      },
      "source": [
        "anime3 = anime2.where('Rating', are.not_equal_to('nan'))\n",
        "anime3 = anime3.with_columns('Rating', anime3.column('Rating').astype(np.float), 'Episodes', anime3.column('Episodes').astype(np.float), 'Rank', anime3.column('Rank').astype(np.float), 'Percentage Stopped Watching', anime3.column('Percentage Stopped Watching').astype(np.float))\n",
        "anime3.show(5)"
      ],
      "execution_count": null,
      "outputs": [
        {
          "output_type": "display_data",
          "data": {
            "text/html": [
              "<table border=\"1\" class=\"dataframe\">\n",
              "    <thead>\n",
              "        <tr>\n",
              "            <th>Name</th> <th>Rating</th> <th>Genre</th> <th>Type</th> <th>Episodes</th> <th>Source</th> <th>Rank</th> <th>Members</th> <th>Stopped Watching</th> <th>Percentage Stopped Watching</th>\n",
              "        </tr>\n",
              "    </thead>\n",
              "    <tbody>\n",
              "        <tr>\n",
              "            <td>YAT Anshin! Uchuu Ryokou   </td> <td>6.98  </td> <td>Adventure, Comedy, Sci-Fi, Shounen                          </td> <td>TV   </td> <td>50      </td> <td>Original</td> <td>3725</td> <td>1611   </td> <td>119             </td> <td>7.38672                    </td>\n",
              "        </tr>\n",
              "        <tr>\n",
              "            <td>Flanders no Inu (Movie)    </td> <td>7.86  </td> <td>Drama, Historical                                           </td> <td>Movie</td> <td>1       </td> <td>Novel   </td> <td>720 </td> <td>17195  </td> <td>168             </td> <td>0.977028                   </td>\n",
              "        </tr>\n",
              "        <tr>\n",
              "            <td>Iro wo Kuu Akuma           </td> <td>5.49  </td> <td>Dementia, Music                                             </td> <td>ONA  </td> <td>1       </td> <td>Original</td> <td>9710</td> <td>476    </td> <td>6               </td> <td>1.2605                     </td>\n",
              "        </tr>\n",
              "        <tr>\n",
              "            <td>Senki Zesshou Symphogear XV</td> <td>8.21  </td> <td>Action, Music, Sci-Fi                                       </td> <td>TV   </td> <td>13      </td> <td>Original</td> <td>302 </td> <td>28318  </td> <td>627             </td> <td>2.21414                    </td>\n",
              "        </tr>\n",
              "        <tr>\n",
              "            <td>Saiyuuki Reload Gunlock    </td> <td>7.42  </td> <td>Action, Adventure, Comedy, Demons, Drama, Josei, Superna ...</td> <td>TV   </td> <td>26      </td> <td>Manga   </td> <td>1840</td> <td>19393  </td> <td>519             </td> <td>2.67622                    </td>\n",
              "        </tr>\n",
              "    </tbody>\n",
              "</table>\n",
              "<p>... (2995 rows omitted)</p>"
            ],
            "text/plain": [
              "<IPython.core.display.HTML object>"
            ]
          },
          "metadata": {
            "tags": []
          }
        }
      ]
    },
    {
      "cell_type": "code",
      "metadata": {
        "colab": {
          "base_uri": "https://localhost:8080/",
          "height": 335
        },
        "id": "KlYWqkb8doXJ",
        "outputId": "83068ae8-0100-4efe-be5e-e0aaa86d61ee"
      },
      "source": [
        "scatter_fit(anime3,'Percentage Stopped Watching','Rating')"
      ],
      "execution_count": null,
      "outputs": [
        {
          "output_type": "display_data",
          "data": {
            "image/png": "[encoded data removed]",
            "text/plain": [
              "<Figure size 360x360 with 1 Axes>"
            ]
          },
          "metadata": {
            "tags": [],
            "needs_background": "light"
          }
        }
      ]
    },
    {
      "cell_type": "code",
      "metadata": {
        "colab": {
          "base_uri": "https://localhost:8080/"
        },
        "id": "bpQmpKrgvxQb",
        "outputId": "cc189b5e-aa59-4c4f-d1d7-30f897d70191"
      },
      "source": [
        "correlation(anime3,'Percentage Stopped Watching','Rating')"
      ],
      "execution_count": null,
      "outputs": [
        {
          "output_type": "execute_result",
          "data": {
            "text/plain": [
              "-0.36820653340242765"
            ]
          },
          "metadata": {
            "tags": []
          },
          "execution_count": 10
        }
      ]
    },
    {
      "cell_type": "markdown",
      "metadata": {
        "id": "ePsFszzswTB7"
      },
      "source": [
        "In this instance, the percentage of members who stopped watching and rating has a low negative correlation, meaning that both features are loosley related. BUT ONLY BECAUSE the type of anime was not specified so Movies, ONAs, OVAs, TV, and Music were all grouped together. When we narrow down our dataset, that's when we will start to see stronger correlations. That's why this correlation is not as useful as it seems, and the low correlation proves it."
      ]
    },
    {
      "cell_type": "markdown",
      "metadata": {
        "id": "MMmrOp2qIv1J"
      },
      "source": [
        "##Question 1: Can we predict the percentage of people who stop watching an anime based on the rating of the anime tv show."
      ]
    },
    {
      "cell_type": "markdown",
      "metadata": {
        "id": "uOOMu0ekKJvj"
      },
      "source": [
        "Let's use the simplified 'anime3' dataset and make a new table called 'anime_tv' using anime with the \"Type\" tv only. Let's use regression to predict the percentage."
      ]
    },
    {
      "cell_type": "markdown",
      "metadata": {
        "id": "dHCkJt1XmAYU"
      },
      "source": [
        "###New 'anime_tv' Table"
      ]
    },
    {
      "cell_type": "code",
      "metadata": {
        "id": "AitxTn4L0Dxu",
        "colab": {
          "base_uri": "https://localhost:8080/",
          "height": 233
        },
        "outputId": "526382dd-c662-4abc-e88e-a5030e4c41c1"
      },
      "source": [
        "anime_tv = anime3.select('Name','Rating','Type','Episodes','Members','Stopped Watching','Percentage Stopped Watching').where('Type', 'TV')\n",
        "anime_tv.show(5)"
      ],
      "execution_count": null,
      "outputs": [
        {
          "output_type": "display_data",
          "data": {
            "text/html": [
              "<table border=\"1\" class=\"dataframe\">\n",
              "    <thead>\n",
              "        <tr>\n",
              "            <th>Name</th> <th>Rating</th> <th>Type</th> <th>Episodes</th> <th>Members</th> <th>Stopped Watching</th> <th>Percentage Stopped Watching</th>\n",
              "        </tr>\n",
              "    </thead>\n",
              "    <tbody>\n",
              "        <tr>\n",
              "            <td>YAT Anshin! Uchuu Ryokou   </td> <td>6.98  </td> <td>TV  </td> <td>50      </td> <td>1611   </td> <td>119             </td> <td>7.38672                    </td>\n",
              "        </tr>\n",
              "        <tr>\n",
              "            <td>Senki Zesshou Symphogear XV</td> <td>8.21  </td> <td>TV  </td> <td>13      </td> <td>28318  </td> <td>627             </td> <td>2.21414                    </td>\n",
              "        </tr>\n",
              "        <tr>\n",
              "            <td>Saiyuuki Reload Gunlock    </td> <td>7.42  </td> <td>TV  </td> <td>26      </td> <td>19393  </td> <td>519             </td> <td>2.67622                    </td>\n",
              "        </tr>\n",
              "        <tr>\n",
              "            <td>Wild Arms: Twilight Venom  </td> <td>6.66  </td> <td>TV  </td> <td>22      </td> <td>6728   </td> <td>458             </td> <td>6.80737                    </td>\n",
              "        </tr>\n",
              "        <tr>\n",
              "            <td>Listeners                  </td> <td>5.38  </td> <td>TV  </td> <td>12      </td> <td>49237  </td> <td>11703           </td> <td>23.7687                    </td>\n",
              "        </tr>\n",
              "    </tbody>\n",
              "</table>\n",
              "<p>... (1021 rows omitted)</p>"
            ],
            "text/plain": [
              "<IPython.core.display.HTML object>"
            ]
          },
          "metadata": {
            "tags": []
          }
        }
      ]
    },
    {
      "cell_type": "markdown",
      "metadata": {
        "id": "6_SM-nrPmHy8"
      },
      "source": [
        "###Scatter Plots and Histogram"
      ]
    },
    {
      "cell_type": "markdown",
      "metadata": {
        "id": "95uxbh0GLSpg"
      },
      "source": [
        "We can run a scatter fit of the modified anime dataset to really see the difference in regression between this scatterplot and the scatterplot of the anime dataset that includes all the types in the 'Type' column."
      ]
    },
    {
      "cell_type": "code",
      "metadata": {
        "colab": {
          "base_uri": "https://localhost:8080/",
          "height": 335
        },
        "id": "6jT8KQ0VXh0E",
        "outputId": "48b5ef45-cb74-45f7-a991-ee4e1c1ba14f"
      },
      "source": [
        "anime_tv_scatter = scatter_fit(anime_tv, 'Percentage Stopped Watching', 'Rating')"
      ],
      "execution_count": null,
      "outputs": [
        {
          "output_type": "display_data",
          "data": {
            "image/png": "[encoded data removed]",
            "text/plain": [
              "<Figure size 360x360 with 1 Axes>"
            ]
          },
          "metadata": {
            "tags": [],
            "needs_background": "light"
          }
        }
      ]
    },
    {
      "cell_type": "code",
      "metadata": {
        "colab": {
          "base_uri": "https://localhost:8080/"
        },
        "id": "fvJ4y-W5p-EJ",
        "outputId": "c4e112a8-895c-417e-82c6-6c0dcbf1e095"
      },
      "source": [
        "anime_tv_slope = slope(anime_tv, 'Percentage Stopped Watching', 'Rating')\n",
        "anime_tv_slope"
      ],
      "execution_count": null,
      "outputs": [
        {
          "output_type": "execute_result",
          "data": {
            "text/plain": [
              "-0.11569840575060175"
            ]
          },
          "metadata": {
            "tags": []
          },
          "execution_count": 13
        }
      ]
    },
    {
      "cell_type": "code",
      "metadata": {
        "colab": {
          "base_uri": "https://localhost:8080/"
        },
        "id": "uLIQKi-2qJCZ",
        "outputId": "18d49544-eeb4-4687-a2ef-bd1d1a346fa3"
      },
      "source": [
        "anime_tv_intercept = intercept(anime_tv, 'Percentage Stopped Watching', 'Rating')\n",
        "anime_tv_intercept"
      ],
      "execution_count": null,
      "outputs": [
        {
          "output_type": "execute_result",
          "data": {
            "text/plain": [
              "7.732494963143735"
            ]
          },
          "metadata": {
            "tags": []
          },
          "execution_count": 14
        }
      ]
    },
    {
      "cell_type": "markdown",
      "metadata": {
        "id": "vAbbHgMhqRnp"
      },
      "source": [
        "The regression line is:\n",
        "\n",
        "$$y = -0.1157 * x + 7.7325$$\n",
        "\n",
        "where y is Rating and x is Percentage Stopped Watching. This means, that when we think the percentage of people who stop watching an anime is zero, then the the minimum rating that anime can get is 7.7325, which is a pretty well rated anime."
      ]
    },
    {
      "cell_type": "code",
      "metadata": {
        "colab": {
          "base_uri": "https://localhost:8080/"
        },
        "id": "5hXOCluBZJDg",
        "outputId": "9178ff2b-16eb-47ec-cb75-0a3dda79214d"
      },
      "source": [
        "correlation(anime_tv, 'Percentage Stopped Watching', 'Rating')"
      ],
      "execution_count": null,
      "outputs": [
        {
          "output_type": "execute_result",
          "data": {
            "text/plain": [
              "-0.7059771080132751"
            ]
          },
          "metadata": {
            "tags": []
          },
          "execution_count": 15
        }
      ]
    },
    {
      "cell_type": "markdown",
      "metadata": {
        "id": "Ss0s6jEVYviI"
      },
      "source": [
        "We can now see that there is a STRONG correlation between the percentage of people who stop watching an anime tv show and the rating of the tv show. In other words, the lower the rating of the show, the more people who give up watching it."
      ]
    },
    {
      "cell_type": "markdown",
      "metadata": {
        "id": "TtRBP_VJg_E_"
      },
      "source": [
        "Now let's build a residual plot to determine the residuals against our predictor variable, which is \"Percentage Stopped Watching\". The function `residual_plot` does that."
      ]
    },
    {
      "cell_type": "code",
      "metadata": {
        "colab": {
          "base_uri": "https://localhost:8080/",
          "height": 352
        },
        "id": "q7XZk_RhhPCY",
        "outputId": "dd6e4ed7-86e3-4028-f424-3751b26d0ee6"
      },
      "source": [
        "anime_tv_residuals = residual_plot(anime_tv, 'Percentage Stopped Watching','Rating')"
      ],
      "execution_count": null,
      "outputs": [
        {
          "output_type": "display_data",
          "data": {
            "image/png": "[encoded data removed]",
            "text/plain": [
              "<Figure size 360x360 with 1 Axes>"
            ]
          },
          "metadata": {
            "tags": [],
            "needs_background": "light"
          }
        }
      ]
    },
    {
      "cell_type": "markdown",
      "metadata": {
        "id": "txabOTV7ihmB"
      },
      "source": [
        "We now have a slightly better visualization of the distribution of percentages, with 0-15% being concentrated. We also have lower valued residuals giving us a lower variance of data and a stronger correlation. For an even better look at the distribution of percentages, let's look at a histogram."
      ]
    },
    {
      "cell_type": "code",
      "metadata": {
        "colab": {
          "base_uri": "https://localhost:8080/",
          "height": 281
        },
        "id": "E2BxIy92jUlP",
        "outputId": "394255d1-e287-4cf2-b68d-b017a6b582bf"
      },
      "source": [
        "percentage_stopped_bins = np.arange(0, 35, 1)\n",
        "anime_tv_hist = anime_tv.hist('Percentage Stopped Watching', bins = percentage_stopped_bins, unit = 'TV Show')"
      ],
      "execution_count": null,
      "outputs": [
        {
          "output_type": "display_data",
          "data": {
            "image/png": "[encoded data removed]",
            "text/plain": [
              "<Figure size 432x288 with 1 Axes>"
            ]
          },
          "metadata": {
            "tags": [],
            "needs_background": "light"
          }
        }
      ]
    },
    {
      "cell_type": "markdown",
      "metadata": {
        "id": "whKK5-K1j8hg"
      },
      "source": [
        "We can see our percentages are right skewed with a majority of our 'anime_tv' dataset having around 4-5 percent of viewers stop watching the corresponding anime."
      ]
    },
    {
      "cell_type": "markdown",
      "metadata": {
        "id": "mo1tSU5gmO-l"
      },
      "source": [
        "###Bootstrapped Slope and Scatter Plot"
      ]
    },
    {
      "cell_type": "markdown",
      "metadata": {
        "id": "h5r5vFArmSaF"
      },
      "source": [
        "To start our prediction, we can try bootstrapping our original slopes and scatterplot."
      ]
    },
    {
      "cell_type": "code",
      "metadata": {
        "id": "jcgqpRXUsaOq"
      },
      "source": [
        "slopes = make_array() # make a blank array to store my bootstrap slopes\n",
        "\n",
        "for i in np.arange(1000): # we will run the loop for 1000 reps\n",
        "    # 1000 bootstrap slope values\n",
        "    bootstrap_sample = anime_tv.sample()\n",
        "    bootstrap_slope = slope(bootstrap_sample, 'Percentage Stopped Watching', 'Rating')\n",
        "    # compute the slope of a regression line based on the bootstrapped sample\n",
        "    slopes = np.append(slopes, bootstrap_slope)\n",
        "    # add the slope we just calculated to the slopes array"
      ],
      "execution_count": null,
      "outputs": []
    },
    {
      "cell_type": "code",
      "metadata": {
        "colab": {
          "base_uri": "https://localhost:8080/",
          "height": 391
        },
        "id": "nYVcKVAIsaIC",
        "outputId": "b31e2d13-547c-4ecc-980a-466b2d9ff59e"
      },
      "source": [
        "Table().with_column('Bootstrap Slopes', slopes).hist(bins=12)\n",
        "# store my array of slopes in a table and make a histogram"
      ],
      "execution_count": null,
      "outputs": [
        {
          "output_type": "display_data",
          "data": {
            "image/png": "[encoded data removed]",
            "text/plain": [
              "<Figure size 432x288 with 1 Axes>"
            ]
          },
          "metadata": {
            "tags": [],
            "needs_background": "light"
          }
        }
      ]
    },
    {
      "cell_type": "code",
      "metadata": {
        "colab": {
          "base_uri": "https://localhost:8080/"
        },
        "id": "RiWVvUUHsaBK",
        "outputId": "fce80475-68d5-4444-c3e6-ea5f9fe44a21"
      },
      "source": [
        "left = percentile(2.5, slopes)\n",
        "right = percentile(97.5, slopes)\n",
        "left, right"
      ],
      "execution_count": null,
      "outputs": [
        {
          "output_type": "execute_result",
          "data": {
            "text/plain": [
              "(-0.12382765575657832, -0.10764525907195978)"
            ]
          },
          "metadata": {
            "tags": []
          },
          "execution_count": 20
        }
      ]
    },
    {
      "cell_type": "markdown",
      "metadata": {
        "id": "pVxeB8fLsz56"
      },
      "source": [
        "It is now plausible to use the regression line to predict other values in the anime_tv dataset.\n",
        "\n",
        "Suppose I ran an anime production studio and wanted to know how bad our show could be potentially be rated if it hasn't yet been rated, to have 15% of all our viewerbase to suddenly stop watching. Let x be 15. Y, which is our estimated Rating, is then approximately equal to 5.99, which is an indecent rating."
      ]
    },
    {
      "cell_type": "markdown",
      "metadata": {
        "id": "k7733med1xs8"
      },
      "source": [
        "Bootstrapping a scatterplot can give an estimated confidence interval to help us predict the statistics of a population, in this case, the anime tv show dataset average rating."
      ]
    },
    {
      "cell_type": "markdown",
      "metadata": {
        "id": "byv3zyfbKSub"
      },
      "source": [
        "##Question 2: A/B Testing of Average Ratings of Anime Movies vs Anime TV"
      ]
    },
    {
      "cell_type": "code",
      "metadata": {
        "id": "WViUmPg70EEh",
        "colab": {
          "base_uri": "https://localhost:8080/",
          "height": 437
        },
        "outputId": "13066994-3b89-4cce-aefd-b8ef434926cb"
      },
      "source": [
        "anime_movies = anime3.where('Type', 'Movie').sort('Rating', descending = True)\n",
        "anime_movies.show(5)"
      ],
      "execution_count": null,
      "outputs": [
        {
          "output_type": "display_data",
          "data": {
            "text/html": [
              "<table border=\"1\" class=\"dataframe\">\n",
              "    <thead>\n",
              "        <tr>\n",
              "            <th>Name</th> <th>Rating</th> <th>Genre</th> <th>Type</th> <th>Episodes</th> <th>Source</th> <th>Rank</th> <th>Members</th> <th>Stopped Watching</th> <th>Percentage Stopped Watching</th>\n",
              "        </tr>\n",
              "    </thead>\n",
              "    <tbody>\n",
              "        <tr>\n",
              "            <td>Kimi no Na wa.                                         </td> <td>8.96  </td> <td>Romance, Supernatural, School, Drama                        </td> <td>Movie</td> <td>1       </td> <td>Original    </td> <td>16  </td> <td>1726660</td> <td>2463            </td> <td>0.142645                   </td>\n",
              "        </tr>\n",
              "        <tr>\n",
              "            <td>Fate/stay night Movie: Heaven's Feel - III. Spring Song</td> <td>8.79  </td> <td>Action, Supernatural, Magic, Fantasy                        </td> <td>Movie</td> <td>1       </td> <td>Visual novel</td> <td>26  </td> <td>127531 </td> <td>250             </td> <td>0.196031                   </td>\n",
              "        </tr>\n",
              "        <tr>\n",
              "            <td>Seishun Buta Yarou wa Yumemiru Shoujo no Yume wo Minai </td> <td>8.68  </td> <td>Supernatural, Drama, Romance, School                        </td> <td>Movie</td> <td>1       </td> <td>Light novel </td> <td>46  </td> <td>359086 </td> <td>868             </td> <td>0.241725                   </td>\n",
              "        </tr>\n",
              "        <tr>\n",
              "            <td>Kimi no Suizou wo Tabetai                              </td> <td>8.59  </td> <td>Drama                                                       </td> <td>Movie</td> <td>1       </td> <td>Novel       </td> <td>74  </td> <td>437815 </td> <td>947             </td> <td>0.216301                   </td>\n",
              "        </tr>\n",
              "        <tr>\n",
              "            <td>Gintama Movie 1: Shinyaku Benizakura-hen               </td> <td>8.52  </td> <td>Action, Sci-Fi, Comedy, Historical, Parody, Samurai, Shounen</td> <td>Movie</td> <td>1       </td> <td>Manga       </td> <td>96  </td> <td>116327 </td> <td>637             </td> <td>0.547594                   </td>\n",
              "        </tr>\n",
              "    </tbody>\n",
              "</table>\n",
              "<p>... (582 rows omitted)</p>"
            ],
            "text/plain": [
              "<IPython.core.display.HTML object>"
            ]
          },
          "metadata": {
            "tags": []
          }
        }
      ]
    },
    {
      "cell_type": "code",
      "metadata": {
        "colab": {
          "base_uri": "https://localhost:8080/"
        },
        "id": "E2CnWrWfa_yj",
        "outputId": "3c2745f2-af05-4ada-c952-6aa607f2f9b5"
      },
      "source": [
        "anime_movies_rating_mean = np.mean(anime_movies.column('Rating'))\n",
        "anime_movies_rating_mean"
      ],
      "execution_count": null,
      "outputs": [
        {
          "output_type": "execute_result",
          "data": {
            "text/plain": [
              "6.50686541737649"
            ]
          },
          "metadata": {
            "tags": []
          },
          "execution_count": 38
        }
      ]
    },
    {
      "cell_type": "code",
      "metadata": {
        "id": "Txe2s6gM0Wi7",
        "colab": {
          "base_uri": "https://localhost:8080/",
          "height": 488
        },
        "outputId": "8ebaf44f-f385-4b46-8151-83cb2fa7e384"
      },
      "source": [
        "anime_tv1 = anime3.where('Type', 'TV').sort('Rating', descending = True)\n",
        "anime_tv1.show(5)"
      ],
      "execution_count": null,
      "outputs": [
        {
          "output_type": "display_data",
          "data": {
            "text/html": [
              "<table border=\"1\" class=\"dataframe\">\n",
              "    <thead>\n",
              "        <tr>\n",
              "            <th>Name</th> <th>Rating</th> <th>Genre</th> <th>Type</th> <th>Episodes</th> <th>Source</th> <th>Rank</th> <th>Members</th> <th>Stopped Watching</th> <th>Percentage Stopped Watching</th>\n",
              "        </tr>\n",
              "    </thead>\n",
              "    <tbody>\n",
              "        <tr>\n",
              "            <td>Shingeki no Kyojin Season 3 Part 2              </td> <td>9.1   </td> <td>Action, Drama, Fantasy, Military, Mystery, Shounen, Supe ...</td> <td>TV  </td> <td>10      </td> <td>Manga      </td> <td>4   </td> <td>1073626</td> <td>3099            </td> <td>0.288648                   </td>\n",
              "        </tr>\n",
              "        <tr>\n",
              "            <td>Gintama.                                        </td> <td>8.99  </td> <td>Action, Comedy, Historical, Parody, Samurai, Sci-Fi, Shounen</td> <td>TV  </td> <td>12      </td> <td>Manga      </td> <td>12  </td> <td>201735 </td> <td>2273            </td> <td>1.12673                    </td>\n",
              "        </tr>\n",
              "        <tr>\n",
              "            <td>Gintama                                         </td> <td>8.96  </td> <td>Action, Comedy, Historical, Parody, Samurai, Sci-Fi, Shounen</td> <td>TV  </td> <td>201     </td> <td>Manga      </td> <td>15  </td> <td>754607 </td> <td>39531           </td> <td>5.23862                    </td>\n",
              "        </tr>\n",
              "        <tr>\n",
              "            <td>Owarimonogatari 2nd Season                      </td> <td>8.93  </td> <td>Mystery, Comedy, Supernatural, Vampire                      </td> <td>TV  </td> <td>7       </td> <td>Light novel</td> <td>17  </td> <td>270878 </td> <td>1697            </td> <td>0.626481                   </td>\n",
              "        </tr>\n",
              "        <tr>\n",
              "            <td>Gintama.: Shirogane no Tamashii-hen - Kouhan-sen</td> <td>8.86  </td> <td>Action, Sci-Fi, Comedy, Historical, Parody, Samurai, Shounen</td> <td>TV  </td> <td>14      </td> <td>Manga      </td> <td>21  </td> <td>114591 </td> <td>1080            </td> <td>0.942482                   </td>\n",
              "        </tr>\n",
              "    </tbody>\n",
              "</table>\n",
              "<p>... (1021 rows omitted)</p>"
            ],
            "text/plain": [
              "<IPython.core.display.HTML object>"
            ]
          },
          "metadata": {
            "tags": []
          }
        }
      ]
    },
    {
      "cell_type": "code",
      "metadata": {
        "colab": {
          "base_uri": "https://localhost:8080/"
        },
        "id": "kFCol-2pbKsi",
        "outputId": "7e9bf026-6a39-4c8d-b8ad-0a56d7b3e536"
      },
      "source": [
        "anime_tv1_rating_mean = np.mean(anime_tv1.column('Rating'))\n",
        "anime_tv1_rating_mean"
      ],
      "execution_count": null,
      "outputs": [
        {
          "output_type": "execute_result",
          "data": {
            "text/plain": [
              "6.913664717348928"
            ]
          },
          "metadata": {
            "tags": []
          },
          "execution_count": 39
        }
      ]
    },
    {
      "cell_type": "markdown",
      "metadata": {
        "id": "C4xW5PdHj9nI"
      },
      "source": [
        "###Modifying 'anime3' Dataset"
      ]
    },
    {
      "cell_type": "code",
      "metadata": {
        "id": "7roVFzf10hS3",
        "colab": {
          "base_uri": "https://localhost:8080/",
          "height": 660
        },
        "outputId": "ac256537-a89c-4f9e-fa54-df0a02580758"
      },
      "source": [
        "anime4 = anime3.where('Type', are.not_equal_to('ONA')).where('Type', are.not_equal_to('OVA')).where('Type', are.not_equal_to('Music')).where('Type', are.not_equal_to('Special'))\n",
        "anime4"
      ],
      "execution_count": null,
      "outputs": [
        {
          "output_type": "execute_result",
          "data": {
            "text/html": [
              "<table border=\"1\" class=\"dataframe\">\n",
              "    <thead>\n",
              "        <tr>\n",
              "            <th>Name</th> <th>Rating</th> <th>Genre</th> <th>Type</th> <th>Episodes</th> <th>Source</th> <th>Rank</th> <th>Members</th> <th>Stopped Watching</th> <th>Percentage Stopped Watching</th>\n",
              "        </tr>\n",
              "    </thead>\n",
              "    <tbody>\n",
              "        <tr>\n",
              "            <td>YAT Anshin! Uchuu Ryokou            </td> <td>6.98  </td> <td>Adventure, Comedy, Sci-Fi, Shounen                          </td> <td>TV   </td> <td>50      </td> <td>Original</td> <td>3725</td> <td>1611   </td> <td>119             </td> <td>7.38672                    </td>\n",
              "        </tr>\n",
              "        <tr>\n",
              "            <td>Flanders no Inu (Movie)             </td> <td>7.86  </td> <td>Drama, Historical                                           </td> <td>Movie</td> <td>1       </td> <td>Novel   </td> <td>720 </td> <td>17195  </td> <td>168             </td> <td>0.977028                   </td>\n",
              "        </tr>\n",
              "        <tr>\n",
              "            <td>Senki Zesshou Symphogear XV         </td> <td>8.21  </td> <td>Action, Music, Sci-Fi                                       </td> <td>TV   </td> <td>13      </td> <td>Original</td> <td>302 </td> <td>28318  </td> <td>627             </td> <td>2.21414                    </td>\n",
              "        </tr>\n",
              "        <tr>\n",
              "            <td>Saiyuuki Reload Gunlock             </td> <td>7.42  </td> <td>Action, Adventure, Comedy, Demons, Drama, Josei, Superna ...</td> <td>TV   </td> <td>26      </td> <td>Manga   </td> <td>1840</td> <td>19393  </td> <td>519             </td> <td>2.67622                    </td>\n",
              "        </tr>\n",
              "        <tr>\n",
              "            <td>Wild Arms: Twilight Venom           </td> <td>6.66  </td> <td>Action, Sci-Fi, Adventure, Magic, Vampire, Fantasy          </td> <td>TV   </td> <td>22      </td> <td>Game    </td> <td>5112</td> <td>6728   </td> <td>458             </td> <td>6.80737                    </td>\n",
              "        </tr>\n",
              "        <tr>\n",
              "            <td>Listeners                           </td> <td>5.38  </td> <td>Action, Mecha, Music, Sci-Fi                                </td> <td>TV   </td> <td>12      </td> <td>Original</td> <td>9967</td> <td>49237  </td> <td>11703           </td> <td>23.7687                    </td>\n",
              "        </tr>\n",
              "        <tr>\n",
              "            <td>Glass no Kamen Desu ga to Z         </td> <td>6.09  </td> <td>Comedy, Parody                                              </td> <td>TV   </td> <td>14      </td> <td>Unknown </td> <td>7850</td> <td>667    </td> <td>69              </td> <td>10.3448                    </td>\n",
              "        </tr>\n",
              "        <tr>\n",
              "            <td>Hataage! Kemono Michi               </td> <td>6.69  </td> <td>Comedy, Fantasy, Shounen                                    </td> <td>TV   </td> <td>12      </td> <td>Manga   </td> <td>4967</td> <td>135278 </td> <td>11817           </td> <td>8.73534                    </td>\n",
              "        </tr>\n",
              "        <tr>\n",
              "            <td>Inu x Boku SS                       </td> <td>7.46  </td> <td>Comedy, Supernatural, Romance, Shounen                      </td> <td>TV   </td> <td>12      </td> <td>Manga   </td> <td>1693</td> <td>404817 </td> <td>16089           </td> <td>3.97439                    </td>\n",
              "        </tr>\n",
              "        <tr>\n",
              "            <td>No Game No Life: Zero - Manner Movie</td> <td>6.86  </td> <td>Comedy                                                      </td> <td>Movie</td> <td>1       </td> <td>Unknown </td> <td>4199</td> <td>21059  </td> <td>322             </td> <td>1.52904                    </td>\n",
              "        </tr>\n",
              "    </tbody>\n",
              "</table>\n",
              "<p>... (1603 rows omitted)</p>"
            ],
            "text/plain": [
              "Name                                 | Rating | Genre                                                        | Type  | Episodes | Source   | Rank | Members | Stopped Watching | Percentage Stopped Watching\n",
              "YAT Anshin! Uchuu Ryokou             | 6.98   | Adventure, Comedy, Sci-Fi, Shounen                           | TV    | 50       | Original | 3725 | 1611    | 119              | 7.38672\n",
              "Flanders no Inu (Movie)              | 7.86   | Drama, Historical                                            | Movie | 1        | Novel    | 720  | 17195   | 168              | 0.977028\n",
              "Senki Zesshou Symphogear XV          | 8.21   | Action, Music, Sci-Fi                                        | TV    | 13       | Original | 302  | 28318   | 627              | 2.21414\n",
              "Saiyuuki Reload Gunlock              | 7.42   | Action, Adventure, Comedy, Demons, Drama, Josei, Superna ... | TV    | 26       | Manga    | 1840 | 19393   | 519              | 2.67622\n",
              "Wild Arms: Twilight Venom            | 6.66   | Action, Sci-Fi, Adventure, Magic, Vampire, Fantasy           | TV    | 22       | Game     | 5112 | 6728    | 458              | 6.80737\n",
              "Listeners                            | 5.38   | Action, Mecha, Music, Sci-Fi                                 | TV    | 12       | Original | 9967 | 49237   | 11703            | 23.7687\n",
              "Glass no Kamen Desu ga to Z          | 6.09   | Comedy, Parody                                               | TV    | 14       | Unknown  | 7850 | 667     | 69               | 10.3448\n",
              "Hataage! Kemono Michi                | 6.69   | Comedy, Fantasy, Shounen                                     | TV    | 12       | Manga    | 4967 | 135278  | 11817            | 8.73534\n",
              "Inu x Boku SS                        | 7.46   | Comedy, Supernatural, Romance, Shounen                       | TV    | 12       | Manga    | 1693 | 404817  | 16089            | 3.97439\n",
              "No Game No Life: Zero - Manner Movie | 6.86   | Comedy                                                       | Movie | 1        | Unknown  | 4199 | 21059   | 322              | 1.52904\n",
              "... (1603 rows omitted)"
            ]
          },
          "metadata": {
            "tags": []
          },
          "execution_count": 53
        }
      ]
    },
    {
      "cell_type": "code",
      "metadata": {
        "colab": {
          "base_uri": "https://localhost:8080/",
          "height": 388
        },
        "id": "8fHi2fEgc1WD",
        "outputId": "7bbb165d-c7e7-40eb-82ef-e76f7f547b41"
      },
      "source": [
        "type_and_rating = anime4.select('Type', 'Rating')\n",
        "type_and_rating"
      ],
      "execution_count": null,
      "outputs": [
        {
          "output_type": "execute_result",
          "data": {
            "text/html": [
              "<table border=\"1\" class=\"dataframe\">\n",
              "    <thead>\n",
              "        <tr>\n",
              "            <th>Type</th> <th>Rating</th>\n",
              "        </tr>\n",
              "    </thead>\n",
              "    <tbody>\n",
              "        <tr>\n",
              "            <td>TV   </td> <td>6.98  </td>\n",
              "        </tr>\n",
              "        <tr>\n",
              "            <td>Movie</td> <td>7.86  </td>\n",
              "        </tr>\n",
              "        <tr>\n",
              "            <td>TV   </td> <td>8.21  </td>\n",
              "        </tr>\n",
              "        <tr>\n",
              "            <td>TV   </td> <td>7.42  </td>\n",
              "        </tr>\n",
              "        <tr>\n",
              "            <td>TV   </td> <td>6.66  </td>\n",
              "        </tr>\n",
              "        <tr>\n",
              "            <td>TV   </td> <td>5.38  </td>\n",
              "        </tr>\n",
              "        <tr>\n",
              "            <td>TV   </td> <td>6.09  </td>\n",
              "        </tr>\n",
              "        <tr>\n",
              "            <td>TV   </td> <td>6.69  </td>\n",
              "        </tr>\n",
              "        <tr>\n",
              "            <td>TV   </td> <td>7.46  </td>\n",
              "        </tr>\n",
              "        <tr>\n",
              "            <td>Movie</td> <td>6.86  </td>\n",
              "        </tr>\n",
              "    </tbody>\n",
              "</table>\n",
              "<p>... (1603 rows omitted)</p>"
            ],
            "text/plain": [
              "Type  | Rating\n",
              "TV    | 6.98\n",
              "Movie | 7.86\n",
              "TV    | 8.21\n",
              "TV    | 7.42\n",
              "TV    | 6.66\n",
              "TV    | 5.38\n",
              "TV    | 6.09\n",
              "TV    | 6.69\n",
              "TV    | 7.46\n",
              "Movie | 6.86\n",
              "... (1603 rows omitted)"
            ]
          },
          "metadata": {
            "tags": []
          },
          "execution_count": 54
        }
      ]
    },
    {
      "cell_type": "code",
      "metadata": {
        "colab": {
          "base_uri": "https://localhost:8080/",
          "height": 111
        },
        "id": "HHORAWbQiL_x",
        "outputId": "a90dccc5-f2a3-4605-fa2c-9c6150e21aa5"
      },
      "source": [
        "type_and_rating.group('Type')"
      ],
      "execution_count": null,
      "outputs": [
        {
          "output_type": "execute_result",
          "data": {
            "text/html": [
              "<table border=\"1\" class=\"dataframe\">\n",
              "    <thead>\n",
              "        <tr>\n",
              "            <th>Type</th> <th>count</th>\n",
              "        </tr>\n",
              "    </thead>\n",
              "    <tbody>\n",
              "        <tr>\n",
              "            <td>Movie</td> <td>587  </td>\n",
              "        </tr>\n",
              "        <tr>\n",
              "            <td>TV   </td> <td>1026 </td>\n",
              "        </tr>\n",
              "    </tbody>\n",
              "</table>"
            ],
            "text/plain": [
              "Type  | count\n",
              "Movie | 587\n",
              "TV    | 1026"
            ]
          },
          "metadata": {
            "tags": []
          },
          "execution_count": 55
        }
      ]
    },
    {
      "cell_type": "markdown",
      "metadata": {
        "id": "NJyQ1FTHig_y"
      },
      "source": [
        "Let’s look at the distribution of the ratings of the anime of movie type compared to those of tv type. To generate two overlaid histograms, we will use hist with the optional group argument which is a column label or index. The rows of the table are first grouped by this column and then a histogram is drawn for each one."
      ]
    },
    {
      "cell_type": "code",
      "metadata": {
        "colab": {
          "base_uri": "https://localhost:8080/",
          "height": 721
        },
        "id": "wbji9qmFiQ-p",
        "outputId": "5d66c627-d17f-4b03-ee71-1bc179d5d461"
      },
      "source": [
        "type_and_rating.hist('Rating', group = 'Type')\n",
        "type_and_rating"
      ],
      "execution_count": null,
      "outputs": [
        {
          "output_type": "stream",
          "text": [
            "/usr/local/lib/python3.7/dist-packages/datascience/tables.py:483: VisibleDeprecationWarning: Creating an ndarray from ragged nested sequences (which is a list-or-tuple of lists-or-tuples-or ndarrays with different lengths or shapes) is deprecated. If you meant to do this, you must specify 'dtype=object' when creating the ndarray\n",
            "  values = np.array(tuple(values))\n",
            "/usr/local/lib/python3.7/dist-packages/numpy/core/_asarray.py:83: VisibleDeprecationWarning: Creating an ndarray from ragged nested sequences (which is a list-or-tuple of lists-or-tuples-or ndarrays with different lengths or shapes) is deprecated. If you meant to do this, you must specify 'dtype=object' when creating the ndarray\n",
            "  return array(a, dtype, copy=False, order=order)\n"
          ],
          "name": "stderr"
        },
        {
          "output_type": "execute_result",
          "data": {
            "text/html": [
              "<table border=\"1\" class=\"dataframe\">\n",
              "    <thead>\n",
              "        <tr>\n",
              "            <th>Type</th> <th>Rating</th>\n",
              "        </tr>\n",
              "    </thead>\n",
              "    <tbody>\n",
              "        <tr>\n",
              "            <td>TV   </td> <td>6.98  </td>\n",
              "        </tr>\n",
              "        <tr>\n",
              "            <td>Movie</td> <td>7.86  </td>\n",
              "        </tr>\n",
              "        <tr>\n",
              "            <td>TV   </td> <td>8.21  </td>\n",
              "        </tr>\n",
              "        <tr>\n",
              "            <td>TV   </td> <td>7.42  </td>\n",
              "        </tr>\n",
              "        <tr>\n",
              "            <td>TV   </td> <td>6.66  </td>\n",
              "        </tr>\n",
              "        <tr>\n",
              "            <td>TV   </td> <td>5.38  </td>\n",
              "        </tr>\n",
              "        <tr>\n",
              "            <td>TV   </td> <td>6.09  </td>\n",
              "        </tr>\n",
              "        <tr>\n",
              "            <td>TV   </td> <td>6.69  </td>\n",
              "        </tr>\n",
              "        <tr>\n",
              "            <td>TV   </td> <td>7.46  </td>\n",
              "        </tr>\n",
              "        <tr>\n",
              "            <td>Movie</td> <td>6.86  </td>\n",
              "        </tr>\n",
              "    </tbody>\n",
              "</table>\n",
              "<p>... (1603 rows omitted)</p>"
            ],
            "text/plain": [
              "Type  | Rating\n",
              "TV    | 6.98\n",
              "Movie | 7.86\n",
              "TV    | 8.21\n",
              "TV    | 7.42\n",
              "TV    | 6.66\n",
              "TV    | 5.38\n",
              "TV    | 6.09\n",
              "TV    | 6.69\n",
              "TV    | 7.46\n",
              "Movie | 6.86\n",
              "... (1603 rows omitted)"
            ]
          },
          "metadata": {
            "tags": []
          },
          "execution_count": 56
        },
        {
          "output_type": "display_data",
          "data": {
            "image/png": "[encoded data removed]",
            "text/plain": [
              "<Figure size 432x288 with 1 Axes>"
            ]
          },
          "metadata": {
            "tags": [],
            "needs_background": "light"
          }
        }
      ]
    },
    {
      "cell_type": "markdown",
      "metadata": {
        "id": "gcRPOSYRkHXl"
      },
      "source": [
        "###Hypotheses"
      ]
    },
    {
      "cell_type": "markdown",
      "metadata": {
        "id": "mHqq_LRkkKRU"
      },
      "source": [
        "**Null Hypothesis:** Regardless of the 'Type' of anime, ('Movie, 'TV'), the average of all the ratings in 'Rating' for 'Movie' is approximately the same for 'TV' with a tolerance of '0.25'.\n",
        "\n",
        "μ1=μ2\n"
      ]
    },
    {
      "cell_type": "markdown",
      "metadata": {
        "id": "Gf-KqveZppQr"
      },
      "source": [
        "**Alternative Hypothesis:** In the dataset, the anime movies have a lower rating, on average, than anime tv shows (with tolerance of '0.25').\n",
        "\n",
        "μ1<μ2\n",
        "\n"
      ]
    },
    {
      "cell_type": "code",
      "metadata": {
        "colab": {
          "base_uri": "https://localhost:8080/",
          "height": 111
        },
        "id": "u7Jrd3I2ibFi",
        "outputId": "3cf9e870-1556-439e-a3c9-bac0f514d72e"
      },
      "source": [
        "means_table = type_and_rating.group('Type', np.average)\n",
        "means_table"
      ],
      "execution_count": null,
      "outputs": [
        {
          "output_type": "execute_result",
          "data": {
            "text/html": [
              "<table border=\"1\" class=\"dataframe\">\n",
              "    <thead>\n",
              "        <tr>\n",
              "            <th>Type</th> <th>Rating average</th>\n",
              "        </tr>\n",
              "    </thead>\n",
              "    <tbody>\n",
              "        <tr>\n",
              "            <td>Movie</td> <td>6.50687       </td>\n",
              "        </tr>\n",
              "        <tr>\n",
              "            <td>TV   </td> <td>6.91366       </td>\n",
              "        </tr>\n",
              "    </tbody>\n",
              "</table>"
            ],
            "text/plain": [
              "Type  | Rating average\n",
              "Movie | 6.50687\n",
              "TV    | 6.91366"
            ]
          },
          "metadata": {
            "tags": []
          },
          "execution_count": 57
        }
      ]
    },
    {
      "cell_type": "code",
      "metadata": {
        "colab": {
          "base_uri": "https://localhost:8080/"
        },
        "id": "prRbKd8rkGEo",
        "outputId": "0095c3d2-0ec1-4ad5-eafc-785744ea6c66"
      },
      "source": [
        "means = means_table.column(1)\n",
        "observed_difference = means.item(1) - means.item(0)\n",
        "observed_difference"
      ],
      "execution_count": null,
      "outputs": [
        {
          "output_type": "execute_result",
          "data": {
            "text/plain": [
              "0.40679929997243747"
            ]
          },
          "metadata": {
            "tags": []
          },
          "execution_count": 58
        }
      ]
    },
    {
      "cell_type": "markdown",
      "metadata": {
        "id": "DZh3Kbf5qRYm"
      },
      "source": [
        "Our test statistic is about 0.4068. We're now going to repeatedly compute the differences in the simulations below by writing a function to take the difference in means of the Movie group and TV group."
      ]
    },
    {
      "cell_type": "code",
      "metadata": {
        "id": "kNmS2JPf3wdM"
      },
      "source": [
        "def difference_of_means(table, label, group_label):\n",
        "    reduced = table.select(label, group_label)\n",
        "    means_table = reduced.group(group_label, np.average)\n",
        "    means = means_table.column(1)\n",
        "    return means.item(1) - means.item(0)"
      ],
      "execution_count": null,
      "outputs": []
    },
    {
      "cell_type": "code",
      "metadata": {
        "colab": {
          "base_uri": "https://localhost:8080/"
        },
        "id": "Nj4dQx01kGCN",
        "outputId": "fa03ad0a-7edb-476f-90a2-5fc7fd5d4284"
      },
      "source": [
        "difference_of_means(anime4, 'Rating', 'Type')"
      ],
      "execution_count": null,
      "outputs": [
        {
          "output_type": "execute_result",
          "data": {
            "text/plain": [
              "0.40679929997243747"
            ]
          },
          "metadata": {
            "tags": []
          },
          "execution_count": 61
        }
      ]
    },
    {
      "cell_type": "markdown",
      "metadata": {
        "id": "P0uIo6mk4Zjq"
      },
      "source": [
        "###Predicting the Statistic Under the Null Hypothesis"
      ]
    },
    {
      "cell_type": "markdown",
      "metadata": {
        "id": "x1-XTiIv4iWB"
      },
      "source": [
        "Now it's time to take the difference of the two new group means. This will be a simulated value of the test statistic under the null hypothesis."
      ]
    },
    {
      "cell_type": "code",
      "metadata": {
        "colab": {
          "base_uri": "https://localhost:8080/",
          "height": 388
        },
        "id": "e2zoPFlykF_t",
        "outputId": "6a55968b-9099-4b08-a2fb-d21eef121797"
      },
      "source": [
        "type_and_rating"
      ],
      "execution_count": null,
      "outputs": [
        {
          "output_type": "execute_result",
          "data": {
            "text/html": [
              "<table border=\"1\" class=\"dataframe\">\n",
              "    <thead>\n",
              "        <tr>\n",
              "            <th>Type</th> <th>Rating</th>\n",
              "        </tr>\n",
              "    </thead>\n",
              "    <tbody>\n",
              "        <tr>\n",
              "            <td>TV   </td> <td>6.98  </td>\n",
              "        </tr>\n",
              "        <tr>\n",
              "            <td>Movie</td> <td>7.86  </td>\n",
              "        </tr>\n",
              "        <tr>\n",
              "            <td>TV   </td> <td>8.21  </td>\n",
              "        </tr>\n",
              "        <tr>\n",
              "            <td>TV   </td> <td>7.42  </td>\n",
              "        </tr>\n",
              "        <tr>\n",
              "            <td>TV   </td> <td>6.66  </td>\n",
              "        </tr>\n",
              "        <tr>\n",
              "            <td>TV   </td> <td>5.38  </td>\n",
              "        </tr>\n",
              "        <tr>\n",
              "            <td>TV   </td> <td>6.09  </td>\n",
              "        </tr>\n",
              "        <tr>\n",
              "            <td>TV   </td> <td>6.69  </td>\n",
              "        </tr>\n",
              "        <tr>\n",
              "            <td>TV   </td> <td>7.46  </td>\n",
              "        </tr>\n",
              "        <tr>\n",
              "            <td>Movie</td> <td>6.86  </td>\n",
              "        </tr>\n",
              "    </tbody>\n",
              "</table>\n",
              "<p>... (1603 rows omitted)</p>"
            ],
            "text/plain": [
              "Type  | Rating\n",
              "TV    | 6.98\n",
              "Movie | 7.86\n",
              "TV    | 8.21\n",
              "TV    | 7.42\n",
              "TV    | 6.66\n",
              "TV    | 5.38\n",
              "TV    | 6.09\n",
              "TV    | 6.69\n",
              "TV    | 7.46\n",
              "Movie | 6.86\n",
              "... (1603 rows omitted)"
            ]
          },
          "metadata": {
            "tags": []
          },
          "execution_count": 62
        }
      ]
    },
    {
      "cell_type": "markdown",
      "metadata": {
        "id": "5Wc-Lo_27AqK"
      },
      "source": [
        "We will shuffle all the labels without replacement, then the sample will include all the rows of the table, in random order."
      ]
    },
    {
      "cell_type": "code",
      "metadata": {
        "id": "bLoye0FXkF6d"
      },
      "source": [
        "shuffled_labels = type_and_rating.sample(with_replacement = False).column(0)\n",
        "original_and_shuffled = type_and_rating.with_column('Shuffled Label', shuffled_labels)"
      ],
      "execution_count": null,
      "outputs": []
    },
    {
      "cell_type": "code",
      "metadata": {
        "colab": {
          "base_uri": "https://localhost:8080/",
          "height": 388
        },
        "id": "pskesIw5kF3v",
        "outputId": "9f2dd16a-7351-4a3a-81b0-3ef98203ec58"
      },
      "source": [
        "original_and_shuffled"
      ],
      "execution_count": null,
      "outputs": [
        {
          "output_type": "execute_result",
          "data": {
            "text/html": [
              "<table border=\"1\" class=\"dataframe\">\n",
              "    <thead>\n",
              "        <tr>\n",
              "            <th>Type</th> <th>Rating</th> <th>Shuffled Label</th>\n",
              "        </tr>\n",
              "    </thead>\n",
              "    <tbody>\n",
              "        <tr>\n",
              "            <td>TV   </td> <td>6.98  </td> <td>TV            </td>\n",
              "        </tr>\n",
              "        <tr>\n",
              "            <td>Movie</td> <td>7.86  </td> <td>TV            </td>\n",
              "        </tr>\n",
              "        <tr>\n",
              "            <td>TV   </td> <td>8.21  </td> <td>TV            </td>\n",
              "        </tr>\n",
              "        <tr>\n",
              "            <td>TV   </td> <td>7.42  </td> <td>TV            </td>\n",
              "        </tr>\n",
              "        <tr>\n",
              "            <td>TV   </td> <td>6.66  </td> <td>TV            </td>\n",
              "        </tr>\n",
              "        <tr>\n",
              "            <td>TV   </td> <td>5.38  </td> <td>Movie         </td>\n",
              "        </tr>\n",
              "        <tr>\n",
              "            <td>TV   </td> <td>6.09  </td> <td>TV            </td>\n",
              "        </tr>\n",
              "        <tr>\n",
              "            <td>TV   </td> <td>6.69  </td> <td>Movie         </td>\n",
              "        </tr>\n",
              "        <tr>\n",
              "            <td>TV   </td> <td>7.46  </td> <td>Movie         </td>\n",
              "        </tr>\n",
              "        <tr>\n",
              "            <td>Movie</td> <td>6.86  </td> <td>TV            </td>\n",
              "        </tr>\n",
              "    </tbody>\n",
              "</table>\n",
              "<p>... (1603 rows omitted)</p>"
            ],
            "text/plain": [
              "Type  | Rating | Shuffled Label\n",
              "TV    | 6.98   | TV\n",
              "Movie | 7.86   | TV\n",
              "TV    | 8.21   | TV\n",
              "TV    | 7.42   | TV\n",
              "TV    | 6.66   | TV\n",
              "TV    | 5.38   | Movie\n",
              "TV    | 6.09   | TV\n",
              "TV    | 6.69   | Movie\n",
              "TV    | 7.46   | Movie\n",
              "Movie | 6.86   | TV\n",
              "... (1603 rows omitted)"
            ]
          },
          "metadata": {
            "tags": []
          },
          "execution_count": 65
        }
      ]
    },
    {
      "cell_type": "markdown",
      "metadata": {
        "id": "UjvPvb887fNT"
      },
      "source": [
        "Each rating now has a random corresponding movie/tv label in the column Shuffled Label, while the original label is in 'Type'. If the null hypothesis is true, all the random re-arrangements of the labels should be equally likely."
      ]
    },
    {
      "cell_type": "code",
      "metadata": {
        "colab": {
          "base_uri": "https://localhost:8080/",
          "height": 111
        },
        "id": "LbhendhHkFXk",
        "outputId": "0c93a715-e201-4ba9-f2f3-4ea0a6768e41"
      },
      "source": [
        "shuffled_only = original_and_shuffled.drop('Type')\n",
        "shuffled_group_means = shuffled_only.group('Shuffled Label', np.average)\n",
        "shuffled_group_means"
      ],
      "execution_count": null,
      "outputs": [
        {
          "output_type": "execute_result",
          "data": {
            "text/html": [
              "<table border=\"1\" class=\"dataframe\">\n",
              "    <thead>\n",
              "        <tr>\n",
              "            <th>Shuffled Label</th> <th>Rating average</th>\n",
              "        </tr>\n",
              "    </thead>\n",
              "    <tbody>\n",
              "        <tr>\n",
              "            <td>Movie         </td> <td>6.78455       </td>\n",
              "        </tr>\n",
              "        <tr>\n",
              "            <td>TV            </td> <td>6.7548        </td>\n",
              "        </tr>\n",
              "    </tbody>\n",
              "</table>"
            ],
            "text/plain": [
              "Shuffled Label | Rating average\n",
              "Movie          | 6.78455\n",
              "TV             | 6.7548"
            ]
          },
          "metadata": {
            "tags": []
          },
          "execution_count": 67
        }
      ]
    },
    {
      "cell_type": "code",
      "metadata": {
        "colab": {
          "base_uri": "https://localhost:8080/"
        },
        "id": "_GNQ8LMf7tj1",
        "outputId": "57b60422-87f3-4bc2-c9dc-51901c3b8291"
      },
      "source": [
        "difference_of_means(original_and_shuffled, 'Rating', 'Shuffled Label')"
      ],
      "execution_count": null,
      "outputs": [
        {
          "output_type": "execute_result",
          "data": {
            "text/plain": [
              "-0.029753230321688307"
            ]
          },
          "metadata": {
            "tags": []
          },
          "execution_count": 68
        }
      ]
    },
    {
      "cell_type": "code",
      "metadata": {
        "colab": {
          "base_uri": "https://localhost:8080/"
        },
        "id": "npUw3MXT8bH0",
        "outputId": "7e21c3ea-706e-4c24-957d-828f6212a84a"
      },
      "source": [
        "difference_of_means(original_and_shuffled, 'Rating', 'Type')"
      ],
      "execution_count": null,
      "outputs": [
        {
          "output_type": "execute_result",
          "data": {
            "text/plain": [
              "0.40679929997243747"
            ]
          },
          "metadata": {
            "tags": []
          },
          "execution_count": 69
        }
      ]
    },
    {
      "cell_type": "markdown",
      "metadata": {
        "id": "jjfS-khZ8oQD"
      },
      "source": [
        "One simulation isn't enough to account for the variability, so we have to simulate it multiple times to see if a larger difference could have occurred."
      ]
    },
    {
      "cell_type": "markdown",
      "metadata": {
        "id": "IH8ZzzXgALdA"
      },
      "source": [
        "Here we can test for 'one_simulated_difference' so it returns the difference of means of two groups formed by randomly shuffling all the labels."
      ]
    },
    {
      "cell_type": "code",
      "metadata": {
        "id": "8e8ignAW8iaS"
      },
      "source": [
        "def one_simulated_difference(table, label, group_label):\n",
        "    shuffled_labels = table.sample(with_replacement = False\n",
        "                                                    ).column(group_label)\n",
        "    shuffled_table = table.select(label).with_column(\n",
        "        'Shuffled Label', shuffled_labels)\n",
        "    return difference_of_means(shuffled_table, label, 'Shuffled Label')   "
      ],
      "execution_count": null,
      "outputs": []
    },
    {
      "cell_type": "code",
      "metadata": {
        "colab": {
          "base_uri": "https://localhost:8080/"
        },
        "id": "UKAVH-rsAbAY",
        "outputId": "4c5d31f9-c2d1-4052-9f1f-eb679423f983"
      },
      "source": [
        "one_simulated_difference(anime4, 'Rating', 'Type')"
      ],
      "execution_count": null,
      "outputs": [
        {
          "output_type": "execute_result",
          "data": {
            "text/plain": [
              "-0.04301050041344112"
            ]
          },
          "metadata": {
            "tags": []
          },
          "execution_count": 74
        }
      ]
    },
    {
      "cell_type": "markdown",
      "metadata": {
        "id": "T7KSvr4GAlsH"
      },
      "source": [
        "###Permutation Test"
      ]
    },
    {
      "cell_type": "markdown",
      "metadata": {
        "id": "2mrIxioBB_Cj"
      },
      "source": [
        "Time to simulate our test statistic many times and collect the differences in an array."
      ]
    },
    {
      "cell_type": "code",
      "metadata": {
        "id": "m0Q2vZoMAeZB"
      },
      "source": [
        "differences = make_array()\n",
        "\n",
        "repetitions = 5000\n",
        "for i in np.arange(repetitions):\n",
        "    new_difference = one_simulated_difference(anime4, 'Rating', 'Type')\n",
        "    differences = np.append(differences, new_difference)                               "
      ],
      "execution_count": null,
      "outputs": []
    },
    {
      "cell_type": "markdown",
      "metadata": {
        "id": "epdFUlmDDXa8"
      },
      "source": [
        "###Conclusion of the Test"
      ]
    },
    {
      "cell_type": "markdown",
      "metadata": {
        "id": "YMJLX3mjDaJ0"
      },
      "source": [
        "The histogram below shows the empirical distribution of 5000 values of the test statistic, based on the null hypothesis."
      ]
    },
    {
      "cell_type": "code",
      "metadata": {
        "colab": {
          "base_uri": "https://localhost:8080/",
          "height": 427
        },
        "id": "Uyl55QWQChCE",
        "outputId": "f10da93e-4009-474e-81dd-ea11bd2b3966"
      },
      "source": [
        "Table().with_column('Difference Between Group Means', differences).hist()\n",
        "print('Observed Difference:', observed_difference)\n",
        "plots.title('Prediction Under the Null Hypothesis');"
      ],
      "execution_count": null,
      "outputs": [
        {
          "output_type": "stream",
          "text": [
            "Observed Difference: 0.40679929997243747\n"
          ],
          "name": "stdout"
        },
        {
          "output_type": "display_data",
          "data": {
            "image/png": "[encoded data removed]",
            "text/plain": [
              "<Figure size 432x288 with 1 Axes>"
            ]
          },
          "metadata": {
            "tags": [],
            "needs_background": "light"
          }
        }
      ]
    },
    {
      "cell_type": "markdown",
      "metadata": {
        "id": "ZVGQMV-gGEjG"
      },
      "source": [
        "The distribution is centered around 0, which makes sense because under the null hypothesis, the two groups have roughly the same average. Therefore the difference between the averages should be 0. But in the original sample, the difference was about 0.407. There is not enough sufficient evidence to support the null hypothesis so the test supports the alternative hypothesis. The average rating of anime movies is less than the average rating of anime tv shows."
      ]
    }
  ]
}